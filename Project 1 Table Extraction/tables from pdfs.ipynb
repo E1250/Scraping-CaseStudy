{
 "cells": [
  {
   "cell_type": "markdown",
   "metadata": {},
   "source": [
    "## Download needed libraries"
   ]
  },
  {
   "cell_type": "code",
   "execution_count": 1,
   "metadata": {},
   "outputs": [
    {
     "name": "stdout",
     "output_type": "stream",
     "text": [
      "Requirement already satisfied: ghostscript in d:\\src\\anaconda\\lib\\site-packages (0.7)\n",
      "Requirement already satisfied: setuptools>=38.6.0 in d:\\src\\anaconda\\lib\\site-packages (from ghostscript) (58.0.4)\n",
      "Note: you may need to restart the kernel to use updated packages.\n",
      "Requirement already satisfied: camelot-py in d:\\src\\anaconda\\lib\\site-packages (0.10.1)\n",
      "Requirement already satisfied: PyPDF2>=1.26.0 in d:\\src\\anaconda\\lib\\site-packages (from camelot-py) (2.10.2)\n",
      "Requirement already satisfied: click>=6.7 in d:\\src\\anaconda\\lib\\site-packages (from camelot-py) (8.0.3)\n",
      "Requirement already satisfied: pdfminer.six>=20200726 in d:\\src\\anaconda\\lib\\site-packages (from camelot-py) (20220524)\n",
      "Requirement already satisfied: chardet>=3.0.4 in d:\\src\\anaconda\\lib\\site-packages (from camelot-py) (4.0.0)\n",
      "Requirement already satisfied: pandas>=0.23.4 in d:\\src\\anaconda\\lib\\site-packages (from camelot-py) (1.3.4)\n",
      "Requirement already satisfied: tabulate>=0.8.9 in d:\\src\\anaconda\\lib\\site-packages (from camelot-py) (0.8.10)\n",
      "Requirement already satisfied: openpyxl>=2.5.8 in d:\\src\\anaconda\\lib\\site-packages (from camelot-py) (3.0.9)\n",
      "Requirement already satisfied: numpy>=1.13.3 in d:\\src\\anaconda\\lib\\site-packages (from camelot-py) (1.20.3)\n",
      "Requirement already satisfied: colorama in d:\\src\\anaconda\\lib\\site-packages (from click>=6.7->camelot-py) (0.4.4)\n",
      "Requirement already satisfied: et-xmlfile in d:\\src\\anaconda\\lib\\site-packages (from openpyxl>=2.5.8->camelot-py) (1.1.0)\n",
      "Requirement already satisfied: python-dateutil>=2.7.3 in d:\\src\\anaconda\\lib\\site-packages (from pandas>=0.23.4->camelot-py) (2.8.2)\n",
      "Requirement already satisfied: pytz>=2017.3 in d:\\src\\anaconda\\lib\\site-packages (from pandas>=0.23.4->camelot-py) (2021.3)\n",
      "Requirement already satisfied: cryptography>=36.0.0 in d:\\src\\anaconda\\lib\\site-packages (from pdfminer.six>=20200726->camelot-py) (37.0.4)\n",
      "Requirement already satisfied: charset-normalizer>=2.0.0 in d:\\src\\anaconda\\lib\\site-packages (from pdfminer.six>=20200726->camelot-py) (2.0.4)\n",
      "Requirement already satisfied: cffi>=1.12 in d:\\src\\anaconda\\lib\\site-packages (from cryptography>=36.0.0->pdfminer.six>=20200726->camelot-py) (1.15.0)\n",
      "Requirement already satisfied: pycparser in d:\\src\\anaconda\\lib\\site-packages (from cffi>=1.12->cryptography>=36.0.0->pdfminer.six>=20200726->camelot-py) (2.21)\n",
      "Requirement already satisfied: typing-extensions in d:\\src\\anaconda\\lib\\site-packages (from PyPDF2>=1.26.0->camelot-py) (3.10.0.2)\n",
      "Requirement already satisfied: six>=1.5 in d:\\src\\anaconda\\lib\\site-packages (from python-dateutil>=2.7.3->pandas>=0.23.4->camelot-py) (1.16.0)\n",
      "Note: you may need to restart the kernel to use updated packages.\n"
     ]
    }
   ],
   "source": [
    "%pip install ghostscript\n",
    "%pip install camelot-py"
   ]
  },
  {
   "cell_type": "code",
   "execution_count": 6,
   "metadata": {},
   "outputs": [
    {
     "data": {
      "text/plain": [
       "<TableList n=1>"
      ]
     },
     "execution_count": 6,
     "metadata": {},
     "output_type": "execute_result"
    }
   ],
   "source": [
    "import camelot\n",
    "tables = camelot.read_pdf('sources/foo.pdf', pages='1', flavor='stream')\n",
    "tables\n",
    "# got one table"
   ]
  },
  {
   "cell_type": "markdown",
   "metadata": {},
   "source": [
    "## saving tables in csv files"
   ]
  },
  {
   "cell_type": "code",
   "execution_count": 9,
   "metadata": {},
   "outputs": [],
   "source": [
    "tables.export('sources/exported_foo.csv', f='csv', compress=True)  # Export to csv to zip\n",
    "tables[0].to_csv(\"sources/exported_foo.csv\")  # Export to csv"
   ]
  }
 ],
 "metadata": {
  "kernelspec": {
   "display_name": "Python 3.8.12 ('base')",
   "language": "python",
   "name": "python3"
  },
  "language_info": {
   "codemirror_mode": {
    "name": "ipython",
    "version": 3
   },
   "file_extension": ".py",
   "mimetype": "text/x-python",
   "name": "python",
   "nbconvert_exporter": "python",
   "pygments_lexer": "ipython3",
   "version": "3.8.12"
  },
  "orig_nbformat": 4,
  "vscode": {
   "interpreter": {
    "hash": "9a1ea29a9163de3b0b0faec04020e6b5cdf1123515b391bf9338daecdffba231"
   }
  }
 },
 "nbformat": 4,
 "nbformat_minor": 2
}
