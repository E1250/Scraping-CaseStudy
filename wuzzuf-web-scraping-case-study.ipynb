{
 "cells": [
  {
   "cell_type": "code",
   "execution_count": 1,
   "id": "ec3ce9c2",
   "metadata": {
    "_cell_guid": "b1076dfc-b9ad-4769-8c92-a6c4dae69d19",
    "_uuid": "8f2839f25d086af736a60e9eeb907d3b93b6e0e5",
    "execution": {
     "iopub.execute_input": "2022-03-26T21:49:11.002326Z",
     "iopub.status.busy": "2022-03-26T21:49:11.000506Z",
     "iopub.status.idle": "2022-03-26T21:49:11.013053Z",
     "shell.execute_reply": "2022-03-26T21:49:11.013579Z",
     "shell.execute_reply.started": "2022-03-21T19:32:09.071852Z"
    },
    "papermill": {
     "duration": 0.035318,
     "end_time": "2022-03-26T21:49:11.013879",
     "exception": false,
     "start_time": "2022-03-26T21:49:10.978561",
     "status": "completed"
    },
    "tags": []
   },
   "outputs": [],
   "source": [
    "# This Python 3 environment comes with many helpful analytics libraries installed\n",
    "# It is defined by the kaggle/python Docker image: https://github.com/kaggle/docker-python\n",
    "# For example, here's several helpful packages to load\n",
    "\n",
    "import numpy as np # linear algebra\n",
    "import pandas as pd # data processing, CSV file I/O (e.g. pd.read_csv)\n",
    "\n",
    "# Input data files are available in the read-only \"../input/\" directory\n",
    "# For example, running this (by clicking run or pressing Shift+Enter) will list all files under the input directory\n",
    "\n",
    "import os\n",
    "for dirname, _, filenames in os.walk('/kaggle/input'):\n",
    "    for filename in filenames:\n",
    "        print(os.path.join(dirname, filename))\n",
    "\n",
    "# You can write up to 20GB to the current directory (/kaggle/working/) that gets preserved as output when you create a version using \"Save & Run All\" \n",
    "# You can also write temporary files to /kaggle/temp/, but they won't be saved outside of the current session"
   ]
  },
  {
   "cell_type": "markdown",
   "id": "38c3f4ab",
   "metadata": {
    "papermill": {
     "duration": 0.016415,
     "end_time": "2022-03-26T21:49:11.047068",
     "exception": false,
     "start_time": "2022-03-26T21:49:11.030653",
     "status": "completed"
    },
    "tags": []
   },
   "source": [
    "**Importing Libraries**"
   ]
  },
  {
   "cell_type": "code",
   "execution_count": 2,
   "id": "5a976bba",
   "metadata": {
    "execution": {
     "iopub.execute_input": "2022-03-26T21:49:11.084055Z",
     "iopub.status.busy": "2022-03-26T21:49:11.083096Z",
     "iopub.status.idle": "2022-03-26T21:49:11.394793Z",
     "shell.execute_reply": "2022-03-26T21:49:11.395392Z",
     "shell.execute_reply.started": "2022-03-21T19:32:09.13008Z"
    },
    "papermill": {
     "duration": 0.331643,
     "end_time": "2022-03-26T21:49:11.395572",
     "exception": false,
     "start_time": "2022-03-26T21:49:11.063929",
     "status": "completed"
    },
    "tags": []
   },
   "outputs": [],
   "source": [
    "from bs4 import BeautifulSoup as bs"
   ]
  },
  {
   "cell_type": "code",
   "execution_count": 3,
   "id": "3b84214f",
   "metadata": {
    "execution": {
     "iopub.execute_input": "2022-03-26T21:49:11.434342Z",
     "iopub.status.busy": "2022-03-26T21:49:11.433602Z",
     "iopub.status.idle": "2022-03-26T21:49:11.435629Z",
     "shell.execute_reply": "2022-03-26T21:49:11.436179Z",
     "shell.execute_reply.started": "2022-03-21T19:32:09.169077Z"
    },
    "papermill": {
     "duration": 0.024165,
     "end_time": "2022-03-26T21:49:11.436382",
     "exception": false,
     "start_time": "2022-03-26T21:49:11.412217",
     "status": "completed"
    },
    "tags": []
   },
   "outputs": [],
   "source": [
    "from urllib.request import urlopen"
   ]
  },
  {
   "cell_type": "code",
   "execution_count": 4,
   "id": "33832e88",
   "metadata": {
    "execution": {
     "iopub.execute_input": "2022-03-26T21:49:11.473919Z",
     "iopub.status.busy": "2022-03-26T21:49:11.473218Z",
     "iopub.status.idle": "2022-03-26T21:49:12.982976Z",
     "shell.execute_reply": "2022-03-26T21:49:12.984474Z",
     "shell.execute_reply.started": "2022-03-21T19:32:09.209906Z"
    },
    "papermill": {
     "duration": 1.53116,
     "end_time": "2022-03-26T21:49:12.984718",
     "exception": false,
     "start_time": "2022-03-26T21:49:11.453558",
     "status": "completed"
    },
    "tags": []
   },
   "outputs": [],
   "source": [
    "url = \"https://wuzzuf.net/search/jobs/?q=illustrator&a=hpb\"\n",
    "\n",
    "client = urlopen(url)"
   ]
  },
  {
   "cell_type": "code",
   "execution_count": 5,
   "id": "0c5e1a1f",
   "metadata": {
    "execution": {
     "iopub.execute_input": "2022-03-26T21:49:13.024874Z",
     "iopub.status.busy": "2022-03-26T21:49:13.024035Z",
     "iopub.status.idle": "2022-03-26T21:49:13.502301Z",
     "shell.execute_reply": "2022-03-26T21:49:13.499807Z",
     "shell.execute_reply.started": "2022-03-21T19:32:10.647402Z"
    },
    "papermill": {
     "duration": 0.49948,
     "end_time": "2022-03-26T21:49:13.502514",
     "exception": false,
     "start_time": "2022-03-26T21:49:13.003034",
     "status": "completed"
    },
    "tags": []
   },
   "outputs": [],
   "source": [
    "#url html\n",
    "html = client.read()\n"
   ]
  },
  {
   "cell_type": "code",
   "execution_count": 6,
   "id": "8cb43cab",
   "metadata": {
    "execution": {
     "iopub.execute_input": "2022-03-26T21:49:13.543265Z",
     "iopub.status.busy": "2022-03-26T21:49:13.542409Z",
     "iopub.status.idle": "2022-03-26T21:49:13.545535Z",
     "shell.execute_reply": "2022-03-26T21:49:13.545039Z",
     "shell.execute_reply.started": "2022-03-21T19:32:11.183935Z"
    },
    "papermill": {
     "duration": 0.025337,
     "end_time": "2022-03-26T21:49:13.545685",
     "exception": false,
     "start_time": "2022-03-26T21:49:13.520348",
     "status": "completed"
    },
    "tags": []
   },
   "outputs": [],
   "source": [
    "client.close()"
   ]
  },
  {
   "cell_type": "code",
   "execution_count": 7,
   "id": "738bd931",
   "metadata": {
    "execution": {
     "iopub.execute_input": "2022-03-26T21:49:13.655679Z",
     "iopub.status.busy": "2022-03-26T21:49:13.619152Z",
     "iopub.status.idle": "2022-03-26T21:49:13.658954Z",
     "shell.execute_reply": "2022-03-26T21:49:13.658398Z",
     "shell.execute_reply.started": "2022-03-21T19:32:11.191529Z"
    },
    "papermill": {
     "duration": 0.096894,
     "end_time": "2022-03-26T21:49:13.659143",
     "exception": false,
     "start_time": "2022-03-26T21:49:13.562249",
     "status": "completed"
    },
    "tags": []
   },
   "outputs": [],
   "source": [
    "soup = bs(html,\"html.parser\")"
   ]
  },
  {
   "cell_type": "code",
   "execution_count": 8,
   "id": "cad647f9",
   "metadata": {
    "execution": {
     "iopub.execute_input": "2022-03-26T21:49:13.707612Z",
     "iopub.status.busy": "2022-03-26T21:49:13.706795Z",
     "iopub.status.idle": "2022-03-26T21:49:13.710622Z",
     "shell.execute_reply": "2022-03-26T21:49:13.711123Z",
     "shell.execute_reply.started": "2022-03-21T19:32:11.275471Z"
    },
    "papermill": {
     "duration": 0.035584,
     "end_time": "2022-03-26T21:49:13.711336",
     "exception": false,
     "start_time": "2022-03-26T21:49:13.675752",
     "status": "completed"
    },
    "tags": []
   },
   "outputs": [
    {
     "data": {
      "text/plain": [
       "15"
      ]
     },
     "execution_count": 8,
     "metadata": {},
     "output_type": "execute_result"
    }
   ],
   "source": [
    "containers = soup.find_all(\"div\",{\"class\":\"css-1gatmva e1v1l3u10\"})\n",
    "\n",
    "len(containers)\n"
   ]
  },
  {
   "cell_type": "code",
   "execution_count": 9,
   "id": "104c207b",
   "metadata": {
    "execution": {
     "iopub.execute_input": "2022-03-26T21:49:13.756098Z",
     "iopub.status.busy": "2022-03-26T21:49:13.755381Z",
     "iopub.status.idle": "2022-03-26T21:49:13.758521Z",
     "shell.execute_reply": "2022-03-26T21:49:13.759027Z",
     "shell.execute_reply.started": "2022-03-21T19:32:11.291495Z"
    },
    "papermill": {
     "duration": 0.030347,
     "end_time": "2022-03-26T21:49:13.759225",
     "exception": false,
     "start_time": "2022-03-26T21:49:13.728878",
     "status": "completed"
    },
    "tags": []
   },
   "outputs": [
    {
     "data": {
      "text/plain": [
       "'<div class=\"css-1gatmva e1v1l3u10\">\\n <style data-emotion=\"css pkv5jc\">\\n  .css-pkv5jc{position:relative;min-height:60px;}\\n </style>\\n <div class=\"css-pkv5jc\">\\n  <a rel=\"noreferrer\" target=\"_blank\">\\n   <style data-emotion=\"css 17095x3\">\\n    .css-17095x3{position:absolute;right:0;top:0;width:60px;height:60px;object-fit:contain;object-position:center center;}\\n   </style>\\n  </a>\\n  <style data-emotion=\"css laomuu\">\\n   .css-laomuu{padding-right:60px;}\\n  </style>\\n  <div class=\"css-laomuu\">\\n   <style data-emotion=\"css m604qf\">\\n    .css-m604qf{font-size:16px;font-weight:600;font-style:normal;letter-spacing:-0.4px;line-height:24px;color:#0055D9;margin:0;}\\n   </style>\\n   <h2 class=\"css-m604qf\">\\n    <style data-emotion=\"css o171kl\">\\n     .css-o171kl{-webkit-text-decoration:none;text-decoration:none;color:inherit;}\\n    </style>\\n    <a class=\"css-o171kl\" href=\"/jobs/p/vqklUm0o7vYv-Senior-Illustrator-Giza-Egypt?o=1&amp;l=sp&amp;t=sj&amp;a=illustrator|search-v3|hpb\" rel=\"noreferrer\" target=\"_blank\">\\n     Senior Illustrator\\n    </a>\\n   </h2>\\n   <style data-emotion=\"css d7j1kk\">\\n    .css-d7j1kk{margin-bottom:8px;overflow:hidden;text-overflow:ellipsis;}\\n   </style>\\n   <div class=\"css-d7j1kk\">\\n    <style data-emotion=\"css 17s97q8\">\\n     .css-17s97q8{font-size:12px;font-weight:600;font-style:normal;letter-spacing:-0.27px;line-height:19px;color:#001433;-webkit-text-decoration:none;text-decoration:none;}\\n    </style>\\n    <a class=\"css-17s97q8\" rel=\"noreferrer\" target=\"_blank\">\\n     Confidential -\\n    </a>\\n    <style data-emotion=\"css 5wys0k\">\\n     .css-5wys0k{font-size:12px;font-weight:600;font-style:normal;letter-spacing:-0.27px;line-height:19px;color:#4D6182;}\\n    </style>\\n    <span class=\"css-5wys0k\">\\n     Mohandessin,\\n     <!-- -->\\n     Giza,\\n     <!-- -->\\n     Egypt\\n    </span>\\n    <style data-emotion=\"css do6t5g\">\\n     .css-do6t5g{font-size:12px;font-weight:400;font-style:normal;letter-spacing:-0.27px;line-height:19px;color:#808EA5;}\\n    </style>\\n    <div class=\"css-do6t5g\">\\n     11 days\\n     <!-- -->\\n     ago\\n    </div>\\n   </div>\\n  </div>\\n  <style data-emotion=\"css y4udm8\">\\n   .css-y4udm8{font-size:13px;font-weight:600;font-style:normal;letter-spacing:-0.3px;line-height:20px;color:#4D6182;}\\n  </style>\\n  <div class=\"css-y4udm8\">\\n   <style data-emotion=\"css 1lh32fc\">\\n    .css-1lh32fc{display:-webkit-box;display:-webkit-flex;display:-ms-flexbox;display:flex;margin-bottom:8px;-webkit-align-items:center;-webkit-box-align:center;-ms-flex-align:center;align-items:center;-webkit-box-flex-wrap:wrap;-webkit-flex-wrap:wrap;-ms-flex-wrap:wrap;flex-wrap:wrap;}\\n   </style>\\n   <div class=\"css-1lh32fc\">\\n    <style data-emotion=\"css n2jc4m\">\\n     .css-n2jc4m{display:-webkit-inline-box;display:-webkit-inline-flex;display:-ms-inline-flexbox;display:inline-flex;-webkit-align-items:center;-webkit-box-align:center;-ms-flex-align:center;align-items:center;-webkit-text-decoration:none;text-decoration:none;color:inherit;margin-bottom:4px;}\\n    </style>\\n    <a class=\"css-n2jc4m\" href=\"/a/Full-Time-Jobs-in-Egypt\">\\n     <style data-emotion=\"css adtuo7\">\\n      .css-adtuo7{cursor:pointer;padding:0 4px;border-radius:4px;}\\n     </style>\\n     <style data-emotion=\"css 1ve4b75\">\\n      .css-1ve4b75{font-size:12px;font-weight:600;display:-webkit-inline-box;display:-webkit-inline-flex;display:-ms-inline-flexbox;display:inline-flex;-webkit-align-items:center;-webkit-box-align:center;-ms-flex-align:center;align-items:center;min-height:20px;margin-right:4px;border-radius:2px;max-width:196px;white-space:nowrap;overflow:hidden;cursor:default;text-overflow:ellipsis;padding:2px 4px;background-color:#EBEDF0;color:#001433;cursor:pointer;padding:0 4px;border-radius:4px;}\\n     </style>\\n     <span class=\"css-1ve4b75 eoyjyou0\">\\n      Full Time\\n     </span>\\n    </a>\\n   </div>\\n   <div>\\n    <a class=\"css-o171kl\" href=\"/a/Experienced-Jobs-in-Egypt\">\\n     Experienced\\n    </a>\\n    <span>\\n     ·\\n     <!-- -->\\n     7 - 10 Yrs of Exp\\n    </span>\\n    <a class=\"css-o171kl\" href=\"/a/Creative-Design-Art-Jobs-in-Egypt\">\\n     <!-- -->\\n     ·\\n     <!-- -->\\n     Creative/Design/Art\\n    </a>\\n    <a class=\"css-o171kl\" href=\"/a/Marketing-PR-Advertising-Jobs-in-Egypt\">\\n     <!-- -->\\n     ·\\n     <!-- -->\\n     Marketing/PR/Advertising\\n    </a>\\n    <!-- -->\\n    ·\\n    <!-- -->\\n    <style data-emotion=\"css 5x9pm1\">\\n     .css-5x9pm1{-webkit-text-decoration:none;text-decoration:none;color:inherit;max-width:calc(100vw / 2 - 32px);white-space:nowrap;overflow:hidden;text-overflow:ellipsis;display:-webkit-inline-box;display:-webkit-inline-flex;display:-ms-inline-flexbox;display:inline-flex;}\\n    </style>\\n    <a class=\"css-5x9pm1\" href=\"/a/Adobe-Illustrator-Jobs-in-Egypt\">\\n     <span>\\n      <span>\\n       Adobe\\n      </span>\\n      <strong class=\"highlight\">\\n       illustrator\\n      </strong>\\n     </span>\\n    </a>\\n    <a class=\"css-5x9pm1\" href=\"/a/Artistic-Jobs-in-Egypt\">\\n     <!-- -->\\n     ·\\n     <!-- -->\\n     Artistic\\n    </a>\\n    <a class=\"css-5x9pm1\" href=\"/a/Photoshop-Jobs-in-Egypt\">\\n     <!-- -->\\n     ·\\n     <!-- -->\\n     photoshop\\n    </a>\\n    <a class=\"css-5x9pm1\" href=\"/a/Indesign-Jobs-in-Egypt\">\\n     <!-- -->\\n     ·\\n     <!-- -->\\n     indesign\\n    </a>\\n    <a class=\"css-5x9pm1\" href=\"/a/Adobe-Photoshop-Jobs-in-Egypt\">\\n     <!-- -->\\n     ·\\n     <!-- -->\\n     Adobe Photoshop\\n    </a>\\n   </div>\\n  </div>\\n </div>\\n</div>\\n'"
      ]
     },
     "execution_count": 9,
     "metadata": {},
     "output_type": "execute_result"
    }
   ],
   "source": [
    "bs.prettify(containers[0])"
   ]
  },
  {
   "cell_type": "code",
   "execution_count": 10,
   "id": "f3378b88",
   "metadata": {
    "execution": {
     "iopub.execute_input": "2022-03-26T21:49:13.798384Z",
     "iopub.status.busy": "2022-03-26T21:49:13.797690Z",
     "iopub.status.idle": "2022-03-26T21:49:13.802705Z",
     "shell.execute_reply": "2022-03-26T21:49:13.803339Z",
     "shell.execute_reply.started": "2022-03-21T19:32:11.306512Z"
    },
    "papermill": {
     "duration": 0.026495,
     "end_time": "2022-03-26T21:49:13.803532",
     "exception": false,
     "start_time": "2022-03-26T21:49:13.777037",
     "status": "completed"
    },
    "tags": []
   },
   "outputs": [
    {
     "data": {
      "text/plain": [
       "'Senior Illustrator'"
      ]
     },
     "execution_count": 10,
     "metadata": {},
     "output_type": "execute_result"
    }
   ],
   "source": [
    "containers[0].div.h2.text"
   ]
  },
  {
   "cell_type": "code",
   "execution_count": 11,
   "id": "6920d66f",
   "metadata": {
    "execution": {
     "iopub.execute_input": "2022-03-26T21:49:13.843422Z",
     "iopub.status.busy": "2022-03-26T21:49:13.842739Z",
     "iopub.status.idle": "2022-03-26T21:49:13.848036Z",
     "shell.execute_reply": "2022-03-26T21:49:13.848560Z",
     "shell.execute_reply.started": "2022-03-21T19:32:11.323242Z"
    },
    "papermill": {
     "duration": 0.027419,
     "end_time": "2022-03-26T21:49:13.848771",
     "exception": false,
     "start_time": "2022-03-26T21:49:13.821352",
     "status": "completed"
    },
    "tags": []
   },
   "outputs": [
    {
     "data": {
      "text/plain": [
       "'Senior Illustrator'"
      ]
     },
     "execution_count": 11,
     "metadata": {},
     "output_type": "execute_result"
    }
   ],
   "source": [
    "jtitle = containers[0].findAll(\"h2\",{\"class\":\"css-m604qf\"})\n",
    "jtitle[0].text"
   ]
  },
  {
   "cell_type": "code",
   "execution_count": 12,
   "id": "2ac3e39a",
   "metadata": {
    "execution": {
     "iopub.execute_input": "2022-03-26T21:49:13.889230Z",
     "iopub.status.busy": "2022-03-26T21:49:13.888546Z",
     "iopub.status.idle": "2022-03-26T21:49:13.894122Z",
     "shell.execute_reply": "2022-03-26T21:49:13.894751Z",
     "shell.execute_reply.started": "2022-03-21T19:32:11.340724Z"
    },
    "papermill": {
     "duration": 0.027634,
     "end_time": "2022-03-26T21:49:13.894951",
     "exception": false,
     "start_time": "2022-03-26T21:49:13.867317",
     "status": "completed"
    },
    "tags": []
   },
   "outputs": [
    {
     "data": {
      "text/plain": [
       "'Confidential -'"
      ]
     },
     "execution_count": 12,
     "metadata": {},
     "output_type": "execute_result"
    }
   ],
   "source": [
    "cname = containers[0].findAll(\"a\",{\"class\",\"css-17s97q8\"})\n",
    "cname[0].text"
   ]
  },
  {
   "cell_type": "markdown",
   "id": "9d7a9ec8",
   "metadata": {
    "papermill": {
     "duration": 0.01838,
     "end_time": "2022-03-26T21:49:13.932130",
     "exception": false,
     "start_time": "2022-03-26T21:49:13.913750",
     "status": "completed"
    },
    "tags": []
   },
   "source": [
    "# **All together**"
   ]
  },
  {
   "cell_type": "code",
   "execution_count": 13,
   "id": "8b6a3fed",
   "metadata": {
    "execution": {
     "iopub.execute_input": "2022-03-26T21:49:13.974308Z",
     "iopub.status.busy": "2022-03-26T21:49:13.973590Z",
     "iopub.status.idle": "2022-03-26T21:49:13.987419Z",
     "shell.execute_reply": "2022-03-26T21:49:13.987986Z",
     "shell.execute_reply.started": "2022-03-21T19:32:11.355778Z"
    },
    "papermill": {
     "duration": 0.036752,
     "end_time": "2022-03-26T21:49:13.988407",
     "exception": false,
     "start_time": "2022-03-26T21:49:13.951655",
     "status": "completed"
    },
    "tags": []
   },
   "outputs": [],
   "source": [
    "f = open ('/kaggle/working/wuzzuf-illustrator.csv','w')\n",
    "header = \"job_title,company_name,jop_type\\n\"\n",
    "f.write(header)\n",
    "\n",
    "\n",
    "\n",
    "for container in containers:\n",
    "    job_title = container.findAll(\"h2\",{\"class\":\"css-m604qf\"})\n",
    "    c_name = container.findAll(\"a\",{\"class\":\"css-17s97q8\"})\n",
    "    \n",
    "#     print(job_title[0].text.strip())\n",
    "#     print(c_name[0].text.strip())\n",
    "    f.write(job_title[0].text.strip()+\",\"+c_name[0].text.strip()+\"\\n\")\n",
    "f.close()\n"
   ]
  },
  {
   "cell_type": "code",
   "execution_count": 14,
   "id": "c34f6bf1",
   "metadata": {
    "execution": {
     "iopub.execute_input": "2022-03-26T21:49:14.030924Z",
     "iopub.status.busy": "2022-03-26T21:49:14.030055Z",
     "iopub.status.idle": "2022-03-26T21:49:14.057822Z",
     "shell.execute_reply": "2022-03-26T21:49:14.058348Z",
     "shell.execute_reply.started": "2022-03-21T19:32:11.374496Z"
    },
    "papermill": {
     "duration": 0.050268,
     "end_time": "2022-03-26T21:49:14.058546",
     "exception": false,
     "start_time": "2022-03-26T21:49:14.008278",
     "status": "completed"
    },
    "tags": []
   },
   "outputs": [
    {
     "data": {
      "text/html": [
       "<div>\n",
       "<style scoped>\n",
       "    .dataframe tbody tr th:only-of-type {\n",
       "        vertical-align: middle;\n",
       "    }\n",
       "\n",
       "    .dataframe tbody tr th {\n",
       "        vertical-align: top;\n",
       "    }\n",
       "\n",
       "    .dataframe thead th {\n",
       "        text-align: right;\n",
       "    }\n",
       "</style>\n",
       "<table border=\"1\" class=\"dataframe\">\n",
       "  <thead>\n",
       "    <tr style=\"text-align: right;\">\n",
       "      <th></th>\n",
       "      <th>job_title</th>\n",
       "      <th>company_name</th>\n",
       "      <th>jop_type</th>\n",
       "    </tr>\n",
       "  </thead>\n",
       "  <tbody>\n",
       "    <tr>\n",
       "      <th>0</th>\n",
       "      <td>Senior Illustrator</td>\n",
       "      <td>Confidential -</td>\n",
       "      <td>NaN</td>\n",
       "    </tr>\n",
       "    <tr>\n",
       "      <th>1</th>\n",
       "      <td>Illustrators</td>\n",
       "      <td>Vector and Digital Artists</td>\n",
       "      <td>Confidential -</td>\n",
       "    </tr>\n",
       "    <tr>\n",
       "      <th>2</th>\n",
       "      <td>Illustrator</td>\n",
       "      <td>Confidential -</td>\n",
       "      <td>NaN</td>\n",
       "    </tr>\n",
       "    <tr>\n",
       "      <th>3</th>\n",
       "      <td>Graphic Designer</td>\n",
       "      <td>Track Advanced Technology -</td>\n",
       "      <td>NaN</td>\n",
       "    </tr>\n",
       "    <tr>\n",
       "      <th>4</th>\n",
       "      <td>Senior Graphic Designer</td>\n",
       "      <td>Homzmart -</td>\n",
       "      <td>NaN</td>\n",
       "    </tr>\n",
       "    <tr>\n",
       "      <th>5</th>\n",
       "      <td>Graphic Designer - Alexandria</td>\n",
       "      <td>Rubyred Garment -</td>\n",
       "      <td>NaN</td>\n",
       "    </tr>\n",
       "    <tr>\n",
       "      <th>6</th>\n",
       "      <td>Graphic Designer</td>\n",
       "      <td>Confidential -</td>\n",
       "      <td>NaN</td>\n",
       "    </tr>\n",
       "    <tr>\n",
       "      <th>7</th>\n",
       "      <td>Content Creator &amp; Graphic Designer</td>\n",
       "      <td>Les Concierges Egypt -</td>\n",
       "      <td>NaN</td>\n",
       "    </tr>\n",
       "    <tr>\n",
       "      <th>8</th>\n",
       "      <td>Graphic Designer - Alexandria</td>\n",
       "      <td>Confidential -</td>\n",
       "      <td>NaN</td>\n",
       "    </tr>\n",
       "    <tr>\n",
       "      <th>9</th>\n",
       "      <td>UI/UX Designer</td>\n",
       "      <td>GCSSD -</td>\n",
       "      <td>NaN</td>\n",
       "    </tr>\n",
       "    <tr>\n",
       "      <th>10</th>\n",
       "      <td>Graphic Designer</td>\n",
       "      <td>OPPO Egypt  -</td>\n",
       "      <td>NaN</td>\n",
       "    </tr>\n",
       "    <tr>\n",
       "      <th>11</th>\n",
       "      <td>Graphic Designer intern</td>\n",
       "      <td>Vexls -</td>\n",
       "      <td>NaN</td>\n",
       "    </tr>\n",
       "    <tr>\n",
       "      <th>12</th>\n",
       "      <td>Graphic Designer</td>\n",
       "      <td>Caduceus Lane -</td>\n",
       "      <td>NaN</td>\n",
       "    </tr>\n",
       "    <tr>\n",
       "      <th>13</th>\n",
       "      <td>Rhino Visualizer</td>\n",
       "      <td>NADIM -</td>\n",
       "      <td>NaN</td>\n",
       "    </tr>\n",
       "    <tr>\n",
       "      <th>14</th>\n",
       "      <td>Senior Graphic Designer</td>\n",
       "      <td>Cloud studio -</td>\n",
       "      <td>NaN</td>\n",
       "    </tr>\n",
       "  </tbody>\n",
       "</table>\n",
       "</div>"
      ],
      "text/plain": [
       "                             job_title                 company_name  \\\n",
       "0                   Senior Illustrator               Confidential -   \n",
       "1                         Illustrators   Vector and Digital Artists   \n",
       "2                          Illustrator               Confidential -   \n",
       "3                     Graphic Designer  Track Advanced Technology -   \n",
       "4              Senior Graphic Designer                   Homzmart -   \n",
       "5        Graphic Designer - Alexandria            Rubyred Garment -   \n",
       "6                     Graphic Designer               Confidential -   \n",
       "7   Content Creator & Graphic Designer       Les Concierges Egypt -   \n",
       "8        Graphic Designer - Alexandria               Confidential -   \n",
       "9                       UI/UX Designer                      GCSSD -   \n",
       "10                    Graphic Designer                OPPO Egypt  -   \n",
       "11             Graphic Designer intern                      Vexls -   \n",
       "12                    Graphic Designer              Caduceus Lane -   \n",
       "13                    Rhino Visualizer                      NADIM -   \n",
       "14             Senior Graphic Designer               Cloud studio -   \n",
       "\n",
       "          jop_type  \n",
       "0              NaN  \n",
       "1   Confidential -  \n",
       "2              NaN  \n",
       "3              NaN  \n",
       "4              NaN  \n",
       "5              NaN  \n",
       "6              NaN  \n",
       "7              NaN  \n",
       "8              NaN  \n",
       "9              NaN  \n",
       "10             NaN  \n",
       "11             NaN  \n",
       "12             NaN  \n",
       "13             NaN  \n",
       "14             NaN  "
      ]
     },
     "execution_count": 14,
     "metadata": {},
     "output_type": "execute_result"
    }
   ],
   "source": [
    "pd.read_csv(\"/kaggle/working/wuzzuf-illustrator.csv\")"
   ]
  }
 ],
 "metadata": {
  "kernelspec": {
   "display_name": "Python 3",
   "language": "python",
   "name": "python3"
  },
  "language_info": {
   "codemirror_mode": {
    "name": "ipython",
    "version": 3
   },
   "file_extension": ".py",
   "mimetype": "text/x-python",
   "name": "python",
   "nbconvert_exporter": "python",
   "pygments_lexer": "ipython3",
   "version": "3.7.12"
  },
  "papermill": {
   "default_parameters": {},
   "duration": 14.158243,
   "end_time": "2022-03-26T21:49:14.790065",
   "environment_variables": {},
   "exception": null,
   "input_path": "__notebook__.ipynb",
   "output_path": "__notebook__.ipynb",
   "parameters": {},
   "start_time": "2022-03-26T21:49:00.631822",
   "version": "2.3.3"
  }
 },
 "nbformat": 4,
 "nbformat_minor": 5
}
